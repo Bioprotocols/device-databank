{
 "cells": [
  {
   "attachments": {},
   "cell_type": "markdown",
   "metadata": {},
   "source": [
    "# Examples of coordinate transformations for robot mover / device interactions\n",
    "\n",
    "This notebook should illustrate the coordinate transformations that are necessary to move a robot to a specific position in a coordinate system.\n",
    "\n",
    "The following coordinate systems are used:\n",
    "\n",
    "Laboratory (World)\n",
    "\n",
    "Stationary Robot\n",
    "\n",
    "or Mobile Robot\n",
    "\n",
    "Device\n",
    "\n",
    "To describe coordinate transformations, we use the following notations:\n",
    "\n",
    "\n",
    "* $T_{A}^{B}$: Transformation from coordinate system $A$ to coordinate system $B$\n",
    "\n",
    "* $P_{A}$: Point in coordinate system $A$\n",
    "\n",
    "* $P_{B}$: Point in coordinate system $B$\n",
    "\n",
    "* $P_{A}^{B}$: Point $P_{A}$ transformed to coordinate system $B$\n",
    "\n",
    "a) as Matrix representation \n",
    "\n",
    "\n",
    "\n",
    "b) as Quaternion representation\n",
    "\n",
    "\n",
    "\n",
    "The following transformations are necessary:\n",
    "\n",
    "\n",
    "Aim:\n",
    "Full coordinate transformation from laboratory/world coordinate system  to device\n",
    "\n"
   ]
  },
  {
   "attachments": {},
   "cell_type": "markdown",
   "metadata": {},
   "source": [
    "## Coordinate transformation from "
   ]
  },
  {
   "cell_type": "code",
   "execution_count": null,
   "metadata": {},
   "outputs": [],
   "source": [
    "# python imports"
   ]
  }
 ],
 "metadata": {
  "language_info": {
   "name": "python"
  },
  "orig_nbformat": 4
 },
 "nbformat": 4,
 "nbformat_minor": 2
}
